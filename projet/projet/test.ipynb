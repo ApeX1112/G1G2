{
 "cells": [
  {
   "cell_type": "code",
   "execution_count": 8,
   "metadata": {},
   "outputs": [],
   "source": [
    "import pandas as pd \n",
    "import numpy as np \n",
    "import seaborn as sns "
   ]
  },
  {
   "cell_type": "code",
   "execution_count": 19,
   "metadata": {},
   "outputs": [],
   "source": [
    "data1=pd.read_csv('resultat_jointure.csv')\n",
    "data2=pd.read_csv('resultat_jointure_nettoye.csv')"
   ]
  },
  {
   "cell_type": "code",
   "execution_count": 22,
   "metadata": {},
   "outputs": [
    {
     "data": {
      "text/plain": [
       "Index(['temperature_en_chiffre', 'humidity_en_chiffre',\n",
       "       'temperature_en_chiffre_2days_left', 'humidity_en_chiffre_2days_left',\n",
       "       'Wingspan_ft_without_winglets_sharklets',\n",
       "       'Wingspan_ft_with_winglets_sharklets', 'Length_ft',\n",
       "       'Tail_Height_at_OEW_ft', 'Wheelbase_ft', 'Cockpit_to_Main_Gear_ft',\n",
       "       'Main_Gear_Width_ft', 'STD', 'Type', 'Fluid', 'Water', 'OAT',\n",
       "       'OneStep Fluid', 'TwoStep I Fluid', 'TwoStep II Fluid',\n",
       "       'deicing_time_minutes', 'meteo_numerical', 'CARRIER_AEG', 'CARRIER_AHO',\n",
       "       'CARRIER_AP', 'CARRIER_ATL', 'CARRIER_BV', 'CARRIER_CAR', 'CARRIER_CCC',\n",
       "       'CARRIER_DC', 'CARRIER_EJM', 'CARRIER_EN', 'CARRIER_ENT', 'CARRIER_EUR',\n",
       "       'CARRIER_EW', 'CARRIER_EXC', 'CARRIER_FR', 'CARRIER_FRD', 'CARRIER_GA',\n",
       "       'CARRIER_GAC', 'CARRIER_GTI', 'CARRIER_IFM', 'CARRIER_IG',\n",
       "       'CARRIER_JDI', 'CARRIER_KLC', 'CARRIER_LH', 'CARRIER_LO', 'CARRIER_LP',\n",
       "       'CARRIER_LPR', 'CARRIER_LS', 'CARRIER_LX', 'CARRIER_NJE', 'CARRIER_OY',\n",
       "       'CARRIER_PL', 'CARRIER_ROY', 'CARRIER_SCH', 'CARRIER_SK', 'CARRIER_SRN',\n",
       "       'CARRIER_STR', 'CARRIER_SWT', 'CARRIER_TOY', 'CARRIER_UPS',\n",
       "       'CARRIER_USA', 'CARRIER_VJT', 'CARRIER_W6', 'CARRIER_WIL', 'CARRIER_WR',\n",
       "       'Month', 'Year'],\n",
       "      dtype='object')"
      ]
     },
     "execution_count": 22,
     "metadata": {},
     "output_type": "execute_result"
    }
   ],
   "source": [
    "data2.columns"
   ]
  },
  {
   "cell_type": "code",
   "execution_count": 17,
   "metadata": {},
   "outputs": [],
   "source": [
    "data1=data1.dropna()"
   ]
  },
  {
   "cell_type": "code",
   "execution_count": 41,
   "metadata": {},
   "outputs": [
    {
     "name": "stdout",
     "output_type": "stream",
     "text": [
      "Start\n",
      "FAA_Designator\n",
      "ACMARK\n",
      "ACTYPE\n",
      "FLIGHT\n",
      "CARRIER\n",
      "DATE\n",
      "ATD\n",
      "Meteo\n",
      "Finish\n",
      "Duration\n"
     ]
    }
   ],
   "source": [
    "a=data1.columns\n",
    "b=data2.columns\n",
    "\n",
    "for el in a:\n",
    "    if not el in b:\n",
    "        print(el)"
   ]
  },
  {
   "cell_type": "code",
   "execution_count": 34,
   "metadata": {},
   "outputs": [],
   "source": [
    "data1=data1.drop(['Unnamed: 24','DeicingID','OrderID','Remark'],axis=1)"
   ]
  },
  {
   "cell_type": "code",
   "execution_count": 30,
   "metadata": {},
   "outputs": [],
   "source": [
    "data1['Wingspan_ft_without_winglets_sharklets']=data2['Wingspan_ft_without_winglets_sharklets']\n",
    "data1['Wingspan_ft_with_winglets_sharklets']=data2['Wingspan_ft_with_winglets_sharklets']"
   ]
  },
  {
   "cell_type": "code",
   "execution_count": 40,
   "metadata": {},
   "outputs": [
    {
     "data": {
      "text/plain": [
       "Wingspan_ft_without_winglets_sharklets     432\n",
       "Wingspan_ft_with_winglets_sharklets        432\n",
       "Length_ft                                  244\n",
       "Tail_Height_at_OEW_ft                      244\n",
       "Wheelbase_ft                               244\n",
       "Cockpit_to_Main_Gear_ft                    244\n",
       "Main_Gear_Width_ft                         244\n",
       "ATD                                          5\n",
       "OneStep Fluid                              491\n",
       "TwoStep I Fluid                           1596\n",
       "TwoStep II Fluid                          1603\n",
       "dtype: int64"
      ]
     },
     "execution_count": 40,
     "metadata": {},
     "output_type": "execute_result"
    }
   ],
   "source": [
    "data1.isnull().sum()[data1.isnull().sum()>0]"
   ]
  },
  {
   "cell_type": "code",
   "execution_count": 36,
   "metadata": {},
   "outputs": [],
   "source": [
    "def Existing_distribution_complete(db,*args):\n",
    "\n",
    "    for i , column in enumerate(args):\n",
    "\n",
    "        existing_values=db[column].dropna()\n",
    "\n",
    "        random_values = np.random.choice(existing_values, size=db[column].isna().sum())\n",
    "\n",
    "        db.loc[db[column].isna(), column] = random_values"
   ]
  },
  {
   "cell_type": "code",
   "execution_count": 39,
   "metadata": {},
   "outputs": [],
   "source": [
    "Existing_distribution_complete(data1,'FAA_Designator','ACMARK','ACTYPE','FLIGHT')"
   ]
  },
  {
   "cell_type": "code",
   "execution_count": 42,
   "metadata": {},
   "outputs": [
    {
     "name": "stdout",
     "output_type": "stream",
     "text": [
      "Start\n",
      "FAA_Designator\n",
      "ACMARK\n",
      "ACTYPE\n",
      "FLIGHT\n",
      "CARRIER\n",
      "DATE\n",
      "ATD\n",
      "Meteo\n",
      "Finish\n",
      "Duration\n"
     ]
    }
   ],
   "source": [
    "a=data1.columns\n",
    "b=data2.columns\n",
    "\n",
    "for el in a:\n",
    "    if not el in b:\n",
    "        print(el)"
   ]
  },
  {
   "cell_type": "code",
   "execution_count": 43,
   "metadata": {},
   "outputs": [],
   "source": [
    "data2['Start']=data1['Start']\n",
    "data2['FAA_Designator']=data1['FAA_Designator']\n",
    "data2['ACMARK']=data1['ACMARK']\n",
    "data2['ACTYPE']=data1['ACTYPE']\n",
    "data2['FLIGHT']=data1['FLIGHT']\n",
    "data2['CARRIER']=data1['CARRIER']\n",
    "data2['DATE']=data1['DATE']\n",
    "data2['ATD']=data1['ATD']\n",
    "data2['Meteo']=data1['Meteo']\n",
    "data2['Finish']=data1['Finish']\n",
    "data2['Duration']=data1['Duration']\n"
   ]
  },
  {
   "cell_type": "code",
   "execution_count": 48,
   "metadata": {},
   "outputs": [
    {
     "data": {
      "text/plain": [
       "Series([], dtype: int64)"
      ]
     },
     "execution_count": 48,
     "metadata": {},
     "output_type": "execute_result"
    }
   ],
   "source": [
    "data2.isnull().sum()[data2.isnull().sum()>0]"
   ]
  },
  {
   "cell_type": "code",
   "execution_count": 47,
   "metadata": {},
   "outputs": [],
   "source": [
    "data2=data2.dropna()"
   ]
  },
  {
   "cell_type": "code",
   "execution_count": 49,
   "metadata": {},
   "outputs": [],
   "source": [
    "data2.to_csv(\"data.csv\")"
   ]
  },
  {
   "cell_type": "code",
   "execution_count": 50,
   "metadata": {},
   "outputs": [
    {
     "data": {
      "text/plain": [
       "Index(['temperature_en_chiffre', 'humidity_en_chiffre',\n",
       "       'temperature_en_chiffre_2days_left', 'humidity_en_chiffre_2days_left',\n",
       "       'Wingspan_ft_without_winglets_sharklets',\n",
       "       'Wingspan_ft_with_winglets_sharklets', 'Length_ft',\n",
       "       'Tail_Height_at_OEW_ft', 'Wheelbase_ft', 'Cockpit_to_Main_Gear_ft',\n",
       "       'Main_Gear_Width_ft', 'STD', 'Type', 'Fluid', 'Water', 'OAT',\n",
       "       'OneStep Fluid', 'TwoStep I Fluid', 'TwoStep II Fluid',\n",
       "       'deicing_time_minutes', 'meteo_numerical', 'CARRIER_AEG', 'CARRIER_AHO',\n",
       "       'CARRIER_AP', 'CARRIER_ATL', 'CARRIER_BV', 'CARRIER_CAR', 'CARRIER_CCC',\n",
       "       'CARRIER_DC', 'CARRIER_EJM', 'CARRIER_EN', 'CARRIER_ENT', 'CARRIER_EUR',\n",
       "       'CARRIER_EW', 'CARRIER_EXC', 'CARRIER_FR', 'CARRIER_FRD', 'CARRIER_GA',\n",
       "       'CARRIER_GAC', 'CARRIER_GTI', 'CARRIER_IFM', 'CARRIER_IG',\n",
       "       'CARRIER_JDI', 'CARRIER_KLC', 'CARRIER_LH', 'CARRIER_LO', 'CARRIER_LP',\n",
       "       'CARRIER_LPR', 'CARRIER_LS', 'CARRIER_LX', 'CARRIER_NJE', 'CARRIER_OY',\n",
       "       'CARRIER_PL', 'CARRIER_ROY', 'CARRIER_SCH', 'CARRIER_SK', 'CARRIER_SRN',\n",
       "       'CARRIER_STR', 'CARRIER_SWT', 'CARRIER_TOY', 'CARRIER_UPS',\n",
       "       'CARRIER_USA', 'CARRIER_VJT', 'CARRIER_W6', 'CARRIER_WIL', 'CARRIER_WR',\n",
       "       'Month', 'Year', 'Start', 'FAA_Designator', 'ACMARK', 'ACTYPE',\n",
       "       'FLIGHT', 'CARRIER', 'DATE', 'ATD', 'Meteo', 'Finish', 'Duration'],\n",
       "      dtype='object')"
      ]
     },
     "execution_count": 50,
     "metadata": {},
     "output_type": "execute_result"
    }
   ],
   "source": [
    "data2.columns"
   ]
  },
  {
   "cell_type": "code",
   "execution_count": 68,
   "metadata": {},
   "outputs": [
    {
     "data": {
      "text/plain": [
       "(1701, 79)"
      ]
     },
     "execution_count": 68,
     "metadata": {},
     "output_type": "execute_result"
    }
   ],
   "source": [
    "data2.shape"
   ]
  },
  {
   "cell_type": "code",
   "execution_count": 53,
   "metadata": {},
   "outputs": [],
   "source": [
    "a='CARRIER_PL'"
   ]
  },
  {
   "cell_type": "code",
   "execution_count": 101,
   "metadata": {},
   "outputs": [
    {
     "data": {
      "text/plain": [
       "True"
      ]
     },
     "execution_count": 101,
     "metadata": {},
     "output_type": "execute_result"
    }
   ],
   "source": [
    "a.startswith('CARRIER_')"
   ]
  },
  {
   "cell_type": "code",
   "execution_count": 55,
   "metadata": {},
   "outputs": [
    {
     "data": {
      "text/plain": [
       "'PL'"
      ]
     },
     "execution_count": 55,
     "metadata": {},
     "output_type": "execute_result"
    }
   ],
   "source": [
    "a.split('CARRIER_')[1]"
   ]
  },
  {
   "cell_type": "code",
   "execution_count": 105,
   "metadata": {},
   "outputs": [],
   "source": [
    "\n",
    "f=np.vectorize(lambda x : x.startswith('CARRIER_'))"
   ]
  },
  {
   "cell_type": "code",
   "execution_count": 106,
   "metadata": {},
   "outputs": [
    {
     "data": {
      "text/plain": [
       "array([False, False, False, False, False, False, False, False, False,\n",
       "       False, False, False, False, False, False, False, False, False,\n",
       "       False, False, False,  True,  True,  True,  True,  True,  True,\n",
       "        True,  True,  True,  True,  True,  True,  True,  True,  True,\n",
       "        True,  True,  True,  True,  True,  True,  True,  True,  True,\n",
       "        True,  True,  True,  True,  True,  True,  True,  True,  True,\n",
       "        True,  True,  True,  True,  True,  True,  True,  True,  True,\n",
       "        True,  True,  True, False, False, False, False, False, False,\n",
       "       False, False, False, False, False, False, False])"
      ]
     },
     "execution_count": 106,
     "metadata": {},
     "output_type": "execute_result"
    }
   ],
   "source": [
    "f(data2.columns.to_numpy())"
   ]
  },
  {
   "cell_type": "code",
   "execution_count": 108,
   "metadata": {},
   "outputs": [],
   "source": [
    "a=data2.columns[f(data2.columns.to_numpy())]"
   ]
  },
  {
   "cell_type": "code",
   "execution_count": 116,
   "metadata": {},
   "outputs": [],
   "source": [
    "db=data2[a]"
   ]
  },
  {
   "cell_type": "code",
   "execution_count": 121,
   "metadata": {},
   "outputs": [],
   "source": [
    "carrier=pd.DataFrame(columns=['CARRIER'])"
   ]
  },
  {
   "cell_type": "code",
   "execution_count": 125,
   "metadata": {},
   "outputs": [],
   "source": [
    "l=[]\n",
    "for i in range(data2.shape[0]):\n",
    "    for column in db.columns:\n",
    "        if db[column].iloc[i]:\n",
    "            el=column.split('CARRIER_')[1]\n",
    "            l.append(el)\n",
    "\n",
    "l=np.array(l)"
   ]
  },
  {
   "cell_type": "code",
   "execution_count": 126,
   "metadata": {},
   "outputs": [],
   "source": [
    "carrier['CARRIER']=l"
   ]
  },
  {
   "cell_type": "code",
   "execution_count": 135,
   "metadata": {},
   "outputs": [
    {
     "data": {
      "text/plain": [
       "0"
      ]
     },
     "execution_count": 135,
     "metadata": {},
     "output_type": "execute_result"
    }
   ],
   "source": [
    "carrier['CARRIER'].isnull().sum()"
   ]
  },
  {
   "cell_type": "code",
   "execution_count": 128,
   "metadata": {},
   "outputs": [],
   "source": [
    "data2['CARRIER']=carrier['CARRIER']"
   ]
  },
  {
   "cell_type": "code",
   "execution_count": 129,
   "metadata": {},
   "outputs": [],
   "source": [
    "data2=data2.drop(db.columns,axis=1)"
   ]
  },
  {
   "cell_type": "code",
   "execution_count": 139,
   "metadata": {},
   "outputs": [
    {
     "data": {
      "text/plain": [
       "temperature_en_chiffre                    0\n",
       "humidity_en_chiffre                       0\n",
       "temperature_en_chiffre_2days_left         0\n",
       "humidity_en_chiffre_2days_left            0\n",
       "Wingspan_ft_without_winglets_sharklets    0\n",
       "Wingspan_ft_with_winglets_sharklets       0\n",
       "Length_ft                                 0\n",
       "Tail_Height_at_OEW_ft                     0\n",
       "Wheelbase_ft                              0\n",
       "Cockpit_to_Main_Gear_ft                   0\n",
       "Main_Gear_Width_ft                        0\n",
       "STD                                       0\n",
       "Type                                      0\n",
       "Fluid                                     0\n",
       "Water                                     0\n",
       "OAT                                       0\n",
       "OneStep Fluid                             0\n",
       "TwoStep I Fluid                           0\n",
       "TwoStep II Fluid                          0\n",
       "deicing_time_minutes                      0\n",
       "meteo_numerical                           0\n",
       "Month                                     0\n",
       "Year                                      0\n",
       "Start                                     0\n",
       "FAA_Designator                            0\n",
       "ACMARK                                    0\n",
       "ACTYPE                                    0\n",
       "FLIGHT                                    0\n",
       "CARRIER                                   0\n",
       "DATE                                      0\n",
       "ATD                                       0\n",
       "Meteo                                     0\n",
       "Finish                                    0\n",
       "Duration                                  0\n",
       "dtype: int64"
      ]
     },
     "execution_count": 139,
     "metadata": {},
     "output_type": "execute_result"
    }
   ],
   "source": [
    "data2.isnull().sum()"
   ]
  },
  {
   "cell_type": "code",
   "execution_count": 140,
   "metadata": {},
   "outputs": [],
   "source": [
    "data2.to_csv(\"data.csv\")"
   ]
  },
  {
   "cell_type": "code",
   "execution_count": 146,
   "metadata": {},
   "outputs": [],
   "source": [
    "from datetime import datetime\n",
    "\n",
    "\n",
    "atd=datetime.strptime(data2['ATD'].iloc[2], '%d.%m.%Y %H:%M').time() \n"
   ]
  },
  {
   "cell_type": "code",
   "execution_count": 148,
   "metadata": {},
   "outputs": [
    {
     "data": {
      "text/plain": [
       "'02.01.2020 06:15'"
      ]
     },
     "execution_count": 148,
     "metadata": {},
     "output_type": "execute_result"
    }
   ],
   "source": [
    "data2['ATD'].iloc[2]"
   ]
  },
  {
   "cell_type": "code",
   "execution_count": 147,
   "metadata": {},
   "outputs": [
    {
     "data": {
      "text/plain": [
       "datetime.time(6, 15)"
      ]
     },
     "execution_count": 147,
     "metadata": {},
     "output_type": "execute_result"
    }
   ],
   "source": [
    "atd"
   ]
  },
  {
   "cell_type": "code",
   "execution_count": 145,
   "metadata": {},
   "outputs": [
    {
     "data": {
      "text/plain": [
       "datetime.date(2020, 1, 2)"
      ]
     },
     "execution_count": 145,
     "metadata": {},
     "output_type": "execute_result"
    }
   ],
   "source": [
    "date"
   ]
  },
  {
   "cell_type": "code",
   "execution_count": 152,
   "metadata": {},
   "outputs": [
    {
     "data": {
      "text/plain": [
       "0       18.01.2020\n",
       "1       02.01.2020\n",
       "2       02.01.2020\n",
       "3       02.01.2020\n",
       "4       02.01.2020\n",
       "           ...    \n",
       "1701    06.12.2023\n",
       "1702    06.12.2023\n",
       "1703    07.12.2023\n",
       "1704    07.12.2023\n",
       "1705    07.12.2023\n",
       "Name: DATE, Length: 1701, dtype: object"
      ]
     },
     "execution_count": 152,
     "metadata": {},
     "output_type": "execute_result"
    }
   ],
   "source": [
    "data2.DATE"
   ]
  }
 ],
 "metadata": {
  "kernelspec": {
   "display_name": "Python 3",
   "language": "python",
   "name": "python3"
  },
  "language_info": {
   "codemirror_mode": {
    "name": "ipython",
    "version": 3
   },
   "file_extension": ".py",
   "mimetype": "text/x-python",
   "name": "python",
   "nbconvert_exporter": "python",
   "pygments_lexer": "ipython3",
   "version": "3.12.8"
  }
 },
 "nbformat": 4,
 "nbformat_minor": 2
}
